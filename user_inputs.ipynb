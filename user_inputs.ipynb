{
 "cells": [
  {
   "cell_type": "markdown",
   "metadata": {},
   "source": [
    "# Imputs del usuario"
   ]
  },
  {
   "cell_type": "code",
   "execution_count": 12,
   "metadata": {},
   "outputs": [
    {
     "name": "stdout",
     "output_type": "stream",
     "text": [
      "Jesus\n"
     ]
    }
   ],
   "source": [
    "name = input(\"Ingresa tu nombre\")\n",
    "print(name)"
   ]
  },
  {
   "cell_type": "markdown",
   "metadata": {},
   "source": [
    "### Programa para saber si un número es mayor a 5"
   ]
  },
  {
   "cell_type": "code",
   "execution_count": 13,
   "metadata": {},
   "outputs": [
    {
     "name": "stdout",
     "output_type": "stream",
     "text": [
      "Su número es mayor a 5\n"
     ]
    }
   ],
   "source": [
    "numero = input(\"Por favor ingrese un número del 1 al 10\") # Debido a que input retorna str hay que transformar a número\n",
    "numero = int(numero) # int transforma a numero la cadena\n",
    "if numero > 5:\n",
    "  print(\"Su número es mayor a 5\")\n",
    "elif numero < 5:\n",
    "  print(\"Su número es menor a 5\")\n",
    "else:\n",
    "  print(\"Su número es igual a 5\")"
   ]
  }
 ],
 "metadata": {
  "kernelspec": {
   "display_name": "Python 3",
   "language": "python",
   "name": "python3"
  },
  "language_info": {
   "codemirror_mode": {
    "name": "ipython",
    "version": 3
   },
   "file_extension": ".py",
   "mimetype": "text/x-python",
   "name": "python",
   "nbconvert_exporter": "python",
   "pygments_lexer": "ipython3",
   "version": "3.10.12"
  }
 },
 "nbformat": 4,
 "nbformat_minor": 2
}
